{
  "nbformat": 4,
  "nbformat_minor": 0,
  "metadata": {
    "colab": {
      "name": "LSTM+Hybrid.ipynb",
      "provenance": [],
      "collapsed_sections": [],
      "toc_visible": true
    },
    "kernelspec": {
      "name": "python3",
      "display_name": "Python 3"
    },
    "accelerator": "GPU"
  },
  "cells": [
    {
      "cell_type": "markdown",
      "metadata": {
        "id": "jznQJvdBJ11s",
        "colab_type": "text"
      },
      "source": [
        "# Project Details \n",
        "- We are given 'sentiment140' dataset. The dataset contains 1,600,000 tweets.\n",
        "-  target class has : 0 = negative, 2 = neutral, 4 = positive, for sentiments calssification\n",
        "- There are 6 columns : target,ids, date,flag,user,text\n",
        "- We are mainly concerned with text and target columns\n",
        "\n",
        "# My Approach : \n",
        "In this notebook, I will discuss 2 main models : LSTM, Hybrid\n",
        "- LSTM \n",
        " - Architecture 1 : basic LSTM model\n",
        " - Architecture 2 : bi-directional LSTM model\n",
        " - Architecture 3 : Glove + LSTM \n",
        " - Architecture 3.1 : Glove + additional dropout + LSTM \n",
        "- Hybrid \n",
        "  - Architecture 1 : Glove + CNN + LSTM \n",
        "  - Architecture 2 : Glove + LSTM + CNN  \n",
        "\n",
        "I have tested this project on Google collab\n",
        "\n",
        "\n",
        "# Install the pre-requistics : "
      ]
    },
    {
      "cell_type": "code",
      "metadata": {
        "id": "toZppX7uQt_K",
        "colab_type": "code",
        "outputId": "bfcad083-a051-4367-a2ab-fa923e86c640",
        "colab": {
          "base_uri": "https://localhost:8080/",
          "height": 1000
        }
      },
      "source": [
        "!pip install nltk\n",
        "!pip install contractions\n",
        "!pip install tensorflow\n",
        "#!pip install tensorflow-gpu"
      ],
      "execution_count": 0,
      "outputs": [
        {
          "output_type": "stream",
          "text": [
            "Requirement already satisfied: nltk in /usr/local/lib/python3.6/dist-packages (3.2.5)\n",
            "Requirement already satisfied: six in /usr/local/lib/python3.6/dist-packages (from nltk) (1.12.0)\n",
            "Collecting contractions\n",
            "  Downloading https://files.pythonhosted.org/packages/85/41/c3dfd5feb91a8d587ed1a59f553f07c05f95ad4e5d00ab78702fbf8fe48a/contractions-0.0.24-py2.py3-none-any.whl\n",
            "Collecting textsearch\n",
            "  Downloading https://files.pythonhosted.org/packages/42/a8/03407021f9555043de5492a2bd7a35c56cc03c2510092b5ec018cae1bbf1/textsearch-0.0.17-py2.py3-none-any.whl\n",
            "Collecting pyahocorasick\n",
            "\u001b[?25l  Downloading https://files.pythonhosted.org/packages/f4/9f/f0d8e8850e12829eea2e778f1c90e3c53a9a799b7f412082a5d21cd19ae1/pyahocorasick-1.4.0.tar.gz (312kB)\n",
            "\u001b[K     |████████████████████████████████| 317kB 32.5MB/s \n",
            "\u001b[?25hCollecting Unidecode\n",
            "\u001b[?25l  Downloading https://files.pythonhosted.org/packages/d0/42/d9edfed04228bacea2d824904cae367ee9efd05e6cce7ceaaedd0b0ad964/Unidecode-1.1.1-py2.py3-none-any.whl (238kB)\n",
            "\u001b[K     |████████████████████████████████| 245kB 45.8MB/s \n",
            "\u001b[?25hBuilding wheels for collected packages: pyahocorasick\n",
            "  Building wheel for pyahocorasick (setup.py) ... \u001b[?25l\u001b[?25hdone\n",
            "  Created wheel for pyahocorasick: filename=pyahocorasick-1.4.0-cp36-cp36m-linux_x86_64.whl size=81704 sha256=86e6f87d2473f07668c9b387b136392ad2638949986184255bb801e23fb86d28\n",
            "  Stored in directory: /root/.cache/pip/wheels/0a/90/61/87a55f5b459792fbb2b7ba6b31721b06ff5cf6bde541b40994\n",
            "Successfully built pyahocorasick\n",
            "Installing collected packages: pyahocorasick, Unidecode, textsearch, contractions\n",
            "Successfully installed Unidecode-1.1.1 contractions-0.0.24 pyahocorasick-1.4.0 textsearch-0.0.17\n",
            "Requirement already satisfied: tensorflow in /usr/local/lib/python3.6/dist-packages (2.2.0rc3)\n",
            "Requirement already satisfied: gast==0.3.3 in /usr/local/lib/python3.6/dist-packages (from tensorflow) (0.3.3)\n",
            "Requirement already satisfied: astunparse==1.6.3 in /usr/local/lib/python3.6/dist-packages (from tensorflow) (1.6.3)\n",
            "Requirement already satisfied: opt-einsum>=2.3.2 in /usr/local/lib/python3.6/dist-packages (from tensorflow) (3.2.1)\n",
            "Requirement already satisfied: numpy<2.0,>=1.16.0 in /usr/local/lib/python3.6/dist-packages (from tensorflow) (1.18.3)\n",
            "Requirement already satisfied: h5py<2.11.0,>=2.10.0 in /usr/local/lib/python3.6/dist-packages (from tensorflow) (2.10.0)\n",
            "Requirement already satisfied: tensorboard<2.3.0,>=2.2.0 in /usr/local/lib/python3.6/dist-packages (from tensorflow) (2.2.1)\n",
            "Requirement already satisfied: six>=1.12.0 in /usr/local/lib/python3.6/dist-packages (from tensorflow) (1.12.0)\n",
            "Requirement already satisfied: wheel>=0.26; python_version >= \"3\" in /usr/local/lib/python3.6/dist-packages (from tensorflow) (0.34.2)\n",
            "Requirement already satisfied: grpcio>=1.8.6 in /usr/local/lib/python3.6/dist-packages (from tensorflow) (1.28.1)\n",
            "Requirement already satisfied: wrapt>=1.11.1 in /usr/local/lib/python3.6/dist-packages (from tensorflow) (1.12.1)\n",
            "Requirement already satisfied: scipy==1.4.1; python_version >= \"3\" in /usr/local/lib/python3.6/dist-packages (from tensorflow) (1.4.1)\n",
            "Requirement already satisfied: keras-preprocessing>=1.1.0 in /usr/local/lib/python3.6/dist-packages (from tensorflow) (1.1.0)\n",
            "Requirement already satisfied: absl-py>=0.7.0 in /usr/local/lib/python3.6/dist-packages (from tensorflow) (0.9.0)\n",
            "Requirement already satisfied: google-pasta>=0.1.8 in /usr/local/lib/python3.6/dist-packages (from tensorflow) (0.2.0)\n",
            "Requirement already satisfied: protobuf>=3.8.0 in /usr/local/lib/python3.6/dist-packages (from tensorflow) (3.10.0)\n",
            "Requirement already satisfied: tensorflow-estimator<2.3.0,>=2.2.0rc0 in /usr/local/lib/python3.6/dist-packages (from tensorflow) (2.2.0)\n",
            "Requirement already satisfied: termcolor>=1.1.0 in /usr/local/lib/python3.6/dist-packages (from tensorflow) (1.1.0)\n",
            "Requirement already satisfied: tensorboard-plugin-wit>=1.6.0 in /usr/local/lib/python3.6/dist-packages (from tensorboard<2.3.0,>=2.2.0->tensorflow) (1.6.0.post3)\n",
            "Requirement already satisfied: google-auth-oauthlib<0.5,>=0.4.1 in /usr/local/lib/python3.6/dist-packages (from tensorboard<2.3.0,>=2.2.0->tensorflow) (0.4.1)\n",
            "Requirement already satisfied: werkzeug>=0.11.15 in /usr/local/lib/python3.6/dist-packages (from tensorboard<2.3.0,>=2.2.0->tensorflow) (1.0.1)\n",
            "Requirement already satisfied: google-auth<2,>=1.6.3 in /usr/local/lib/python3.6/dist-packages (from tensorboard<2.3.0,>=2.2.0->tensorflow) (1.7.2)\n",
            "Requirement already satisfied: markdown>=2.6.8 in /usr/local/lib/python3.6/dist-packages (from tensorboard<2.3.0,>=2.2.0->tensorflow) (3.2.1)\n",
            "Requirement already satisfied: requests<3,>=2.21.0 in /usr/local/lib/python3.6/dist-packages (from tensorboard<2.3.0,>=2.2.0->tensorflow) (2.23.0)\n",
            "Requirement already satisfied: setuptools>=41.0.0 in /usr/local/lib/python3.6/dist-packages (from tensorboard<2.3.0,>=2.2.0->tensorflow) (46.1.3)\n",
            "Requirement already satisfied: requests-oauthlib>=0.7.0 in /usr/local/lib/python3.6/dist-packages (from google-auth-oauthlib<0.5,>=0.4.1->tensorboard<2.3.0,>=2.2.0->tensorflow) (1.3.0)\n",
            "Requirement already satisfied: rsa<4.1,>=3.1.4 in /usr/local/lib/python3.6/dist-packages (from google-auth<2,>=1.6.3->tensorboard<2.3.0,>=2.2.0->tensorflow) (4.0)\n",
            "Requirement already satisfied: cachetools<3.2,>=2.0.0 in /usr/local/lib/python3.6/dist-packages (from google-auth<2,>=1.6.3->tensorboard<2.3.0,>=2.2.0->tensorflow) (3.1.1)\n",
            "Requirement already satisfied: pyasn1-modules>=0.2.1 in /usr/local/lib/python3.6/dist-packages (from google-auth<2,>=1.6.3->tensorboard<2.3.0,>=2.2.0->tensorflow) (0.2.8)\n",
            "Requirement already satisfied: urllib3!=1.25.0,!=1.25.1,<1.26,>=1.21.1 in /usr/local/lib/python3.6/dist-packages (from requests<3,>=2.21.0->tensorboard<2.3.0,>=2.2.0->tensorflow) (1.24.3)\n",
            "Requirement already satisfied: chardet<4,>=3.0.2 in /usr/local/lib/python3.6/dist-packages (from requests<3,>=2.21.0->tensorboard<2.3.0,>=2.2.0->tensorflow) (3.0.4)\n",
            "Requirement already satisfied: idna<3,>=2.5 in /usr/local/lib/python3.6/dist-packages (from requests<3,>=2.21.0->tensorboard<2.3.0,>=2.2.0->tensorflow) (2.9)\n",
            "Requirement already satisfied: certifi>=2017.4.17 in /usr/local/lib/python3.6/dist-packages (from requests<3,>=2.21.0->tensorboard<2.3.0,>=2.2.0->tensorflow) (2020.4.5.1)\n",
            "Requirement already satisfied: oauthlib>=3.0.0 in /usr/local/lib/python3.6/dist-packages (from requests-oauthlib>=0.7.0->google-auth-oauthlib<0.5,>=0.4.1->tensorboard<2.3.0,>=2.2.0->tensorflow) (3.1.0)\n",
            "Requirement already satisfied: pyasn1>=0.1.3 in /usr/local/lib/python3.6/dist-packages (from rsa<4.1,>=3.1.4->google-auth<2,>=1.6.3->tensorboard<2.3.0,>=2.2.0->tensorflow) (0.4.8)\n"
          ],
          "name": "stdout"
        }
      ]
    },
    {
      "cell_type": "markdown",
      "metadata": {
        "id": "Gbzuc_UQR3Am",
        "colab_type": "text"
      },
      "source": [
        "# Libraries we are importing\n",
        "- pandas : Data processing library, used to store the dataset in a Dataframe\n",
        "- numpy : used mainly for any scientific computing\n",
        "- sklearn : ML library in python\n",
        "- tensorflow : Google's Deep Learning Library\n",
        "- matplotlib : to get plots\n",
        "\n",
        "Please ensure that you have your runtime set to GPU :\n",
        "Runtime --> change runtime type --> Hardware accelator = GPU"
      ]
    },
    {
      "cell_type": "code",
      "metadata": {
        "id": "4QelcE3OutT3",
        "colab_type": "code",
        "outputId": "eab64ab7-9508-4397-a3a9-9c19b349685e",
        "colab": {
          "base_uri": "https://localhost:8080/",
          "height": 68
        }
      },
      "source": [
        "import pandas as pd\n",
        "import tensorflow as tf\n",
        "print(tf.__version__)\n",
        "print(\"Our tensorflow version = 2.2.0-rc3\")\n",
        "import csv\n",
        "import numpy as np\n",
        "import nltk\n",
        "from tensorflow.keras.preprocessing.text import Tokenizer\n",
        "from tensorflow.keras.preprocessing.sequence import pad_sequences\n",
        "import re\n",
        "from sklearn.model_selection import train_test_split\n",
        "from sklearn.preprocessing import LabelEncoder\n",
        "from sklearn.utils import class_weight\n",
        "from sklearn.metrics import f1_score, classification_report, log_loss\n",
        "from sklearn.model_selection import train_test_split\n",
        "import contractions as cont_lib\n",
        "\n",
        "import matplotlib.pyplot as plt\n",
        "\n",
        "# Checking for GPU \n",
        "import timeit\n",
        "from collections import Counter  # to counts the distribution of classes in the dataset\n",
        "\n",
        "tf.test.is_gpu_available #show if tensorflow has accuss to cuda gpu\n",
        "device_name = tf.test.gpu_device_name()\n",
        "if device_name != '/device:GPU:0':\n",
        "  raise SystemError('GPU device not found')\n",
        "print('Found GPU at: {}'.format(device_name))"
      ],
      "execution_count": 0,
      "outputs": [
        {
          "output_type": "stream",
          "text": [
            "2.2.0-rc3\n",
            "Our tensorflow version = 2.2.0-rc3\n",
            "Found GPU at: /device:GPU:0\n"
          ],
          "name": "stdout"
        }
      ]
    },
    {
      "cell_type": "markdown",
      "metadata": {
        "id": "i0Jo0nZ8UHAe",
        "colab_type": "text"
      },
      "source": [
        "# Steps taken:\n",
        "\n",
        "- Data is loaded into pandas\n",
        "- Text Data is cleaned (we will do basic pre-processing as we still dont know if or if not removing stop words, lemmatisation, stemming is better or not. Also label encoding is done). Pre-processed_data is used to verify all models in this project\n",
        "- Split the dataset into train and test\n",
        "- Both the data is tokenised, and padded. \n",
        "- Train dataset is used for model training, and test dataset for evaluation"
      ]
    },
    {
      "cell_type": "markdown",
      "metadata": {
        "id": "zb2xstZzgHxG",
        "colab_type": "text"
      },
      "source": [
        "# Hyper-parameters\n",
        "these are declared at the top as it is easy to change when needed"
      ]
    },
    {
      "cell_type": "code",
      "metadata": {
        "id": "w2lbFKtWQqLR",
        "colab_type": "code",
        "colab": {}
      },
      "source": [
        "# use glove 100 file\n",
        "embedding_dim = 64 # This gives the size of the feature vector\n",
        "max_length = 30 # max word length of sentences held in sequences\n",
        "# max_length = df['text_after_preprocess'].apply(lambda x : len(x.split(' '))).quantile(0.99)\n",
        "trunc_type = 'post' # we truncate at the end\n",
        "padding_type = 'post' #we padd at the end\n",
        "oov_tok = '<OOV>'\n",
        "training_portion = .8 # proportion of training data that is split\n",
        "\n",
        "# CNN parameters # verified in another notebook\n",
        "maxLength = 40 # max word length of sentences held in sequences.  Cutting it in half drops accuracy and worsens loss by about 1%. \n",
        "eDepth = 200 #depth of the embedding layer.   \n",
        "bSize = 128 #batch size for conv layer \n",
        "fSize = 5 #feature size for conv layer\n",
        "cEpochs = 10 #epoch number for conv layer \n",
        "dOut = 0.3 #dropout rate for drop layer\n",
        "cActivation = 'relu' #activation type for conv layer. Default was 'relu'"
      ],
      "execution_count": 0,
      "outputs": []
    },
    {
      "cell_type": "markdown",
      "metadata": {
        "id": "p49J11SHeg2o",
        "colab_type": "text"
      },
      "source": [
        "# Read the file \n",
        "- We mounted the file in Google drive when running it \n",
        "- But, we will comment this command off, and add the csv file so that the local path would be same incase it is run again"
      ]
    },
    {
      "cell_type": "code",
      "metadata": {
        "id": "K8iOWRxw-HtZ",
        "colab_type": "code",
        "outputId": "e019bfa0-c58b-4d9a-9860-05828dde1cb1",
        "colab": {
          "base_uri": "https://localhost:8080/",
          "height": 189
        }
      },
      "source": [
        "from google.colab import drive\n",
        "drive.mount('/content/drive')\n",
        "#df = pd.read_csv(\"/content/drive/My Drive/TwitterData.csv\", encoding = 'ISO-8859–1',  names=[\"target\", \"ids\", \"date\", \"flag\", \"user\", \"text\"]) \n",
        "df = pd.read_csv(\"TwitterData.csv\", encoding = 'ISO-8859–1',  names=[\"target\", \"ids\", \"date\", \"flag\", \"user\", \"text\"]) "
      ],
      "execution_count": 0,
      "outputs": [
        {
          "output_type": "stream",
          "text": [
            "Go to this URL in a browser: https://accounts.google.com/o/oauth2/auth?client_id=947318989803-6bn6qk8qdgf4n4g3pfee6491hc0brc4i.apps.googleusercontent.com&redirect_uri=urn%3aietf%3awg%3aoauth%3a2.0%3aoob&response_type=code&scope=email%20https%3a%2f%2fwww.googleapis.com%2fauth%2fdocs.test%20https%3a%2f%2fwww.googleapis.com%2fauth%2fdrive%20https%3a%2f%2fwww.googleapis.com%2fauth%2fdrive.photos.readonly%20https%3a%2f%2fwww.googleapis.com%2fauth%2fpeopleapi.readonly\n",
            "\n",
            "Enter your authorization code:\n",
            "··········\n",
            "Mounted at /content/drive\n"
          ],
          "name": "stdout"
        }
      ]
    },
    {
      "cell_type": "code",
      "metadata": {
        "id": "gh2sueuVOInW",
        "colab_type": "code",
        "outputId": "42fe878c-e99c-43cb-e435-cc449c228c86",
        "colab": {
          "base_uri": "https://localhost:8080/",
          "height": 111
        }
      },
      "source": [
        "df.head(2)"
      ],
      "execution_count": 0,
      "outputs": [
        {
          "output_type": "execute_result",
          "data": {
            "text/html": [
              "<div>\n",
              "<style scoped>\n",
              "    .dataframe tbody tr th:only-of-type {\n",
              "        vertical-align: middle;\n",
              "    }\n",
              "\n",
              "    .dataframe tbody tr th {\n",
              "        vertical-align: top;\n",
              "    }\n",
              "\n",
              "    .dataframe thead th {\n",
              "        text-align: right;\n",
              "    }\n",
              "</style>\n",
              "<table border=\"1\" class=\"dataframe\">\n",
              "  <thead>\n",
              "    <tr style=\"text-align: right;\">\n",
              "      <th></th>\n",
              "      <th>target</th>\n",
              "      <th>ids</th>\n",
              "      <th>date</th>\n",
              "      <th>flag</th>\n",
              "      <th>user</th>\n",
              "      <th>text</th>\n",
              "    </tr>\n",
              "  </thead>\n",
              "  <tbody>\n",
              "    <tr>\n",
              "      <th>0</th>\n",
              "      <td>0</td>\n",
              "      <td>1467810369</td>\n",
              "      <td>Mon Apr 06 22:19:45 PDT 2009</td>\n",
              "      <td>NO_QUERY</td>\n",
              "      <td>_TheSpecialOne_</td>\n",
              "      <td>@switchfoot http://twitpic.com/2y1zl - Awww, t...</td>\n",
              "    </tr>\n",
              "    <tr>\n",
              "      <th>1</th>\n",
              "      <td>0</td>\n",
              "      <td>1467810672</td>\n",
              "      <td>Mon Apr 06 22:19:49 PDT 2009</td>\n",
              "      <td>NO_QUERY</td>\n",
              "      <td>scotthamilton</td>\n",
              "      <td>is upset that he can't update his Facebook by ...</td>\n",
              "    </tr>\n",
              "  </tbody>\n",
              "</table>\n",
              "</div>"
            ],
            "text/plain": [
              "   target  ...                                               text\n",
              "0       0  ...  @switchfoot http://twitpic.com/2y1zl - Awww, t...\n",
              "1       0  ...  is upset that he can't update his Facebook by ...\n",
              "\n",
              "[2 rows x 6 columns]"
            ]
          },
          "metadata": {
            "tags": []
          },
          "execution_count": 6
        }
      ]
    },
    {
      "cell_type": "markdown",
      "metadata": {
        "id": "sFBOpH0onF3F",
        "colab_type": "text"
      },
      "source": [
        "# Pre-processing : \n",
        "- We have done very little pre-processing : No stemming, POS tagging, Lemmatisation, or other NLP tasks\n",
        "- We have tokenised the text \n",
        "- 2-fold Contarction mapping is done (eg. can't --> can not). This is mainly because the library contractions found does only basic mappings. Hence we added extra mappings. We used wikipedia as a refernce when defining the function contractions below. \n",
        "- Our belief is that DL models should be able to perform well even with minimal pre-processing or as people call it \"expert\" feature engineering"
      ]
    },
    {
      "cell_type": "code",
      "metadata": {
        "id": "u7HU6Vpx9S5W",
        "colab_type": "code",
        "colab": {}
      },
      "source": [
        "def contractions(text):\n",
        "    text = re.sub(r\"\\'t\", \" not\", text)\n",
        "    text = re.sub(r\"\\'ve\", \" have\", text)\n",
        "    text = re.sub(r\"\\'m\", \" am\", text)\n",
        "    text = re.sub(r\"won\\'t\", \"will not\", text)\n",
        "    text = re.sub(r\"can\\'t\", \"can not\", text)\n",
        "    text = re.sub(r\"n\\'t\", \" not\", text)\n",
        "    text = re.sub(r\"\\'re\", \" are\", text)\n",
        "    text = re.sub(r\"\\'s\", \" is\", text)\n",
        "    text = re.sub(r\"\\'d\", \" would\", text)\n",
        "    text = re.sub(r\"\\'ll\", \" will\", text)\n",
        "    text = re.sub(r\"\\'a\", \" have\", text)\n",
        "    return text\n",
        "\n",
        "def preprocess(text):\n",
        "    # Remove link,user and special characters\n",
        "    text = re.sub('@[^ ]+ ', '', text) #remove user @ tags\n",
        "    text = re.sub('http[^ ]+ ', '', text) #remove hyperlinks \n",
        "    text = re.sub('[^a-zA-Z1-9]', ' ', text) #remove special characters left over \n",
        "    text = re.sub(r'\\s+', ' ', text) #remove multiple spaces\n",
        "    text = text.lstrip() #remove trailing spaces\n",
        "    text = text.rstrip()    \n",
        "    text = contractions(text)\n",
        "    tokens = []\n",
        "    for token in text.split():\n",
        "        tokens.append(cont_lib.fix(token))\n",
        "    return \" \".join(tokens)"
      ],
      "execution_count": 0,
      "outputs": []
    },
    {
      "cell_type": "code",
      "metadata": {
        "id": "nxN8AXdEsrDX",
        "colab_type": "code",
        "outputId": "c7a5aecb-4431-47d9-fca9-71f28c58345b",
        "colab": {
          "base_uri": "https://localhost:8080/",
          "height": 51
        }
      },
      "source": [
        "sent = \"you've three, so can't dont\"\n",
        "print(contractions(sent))\n",
        "print(cont_lib.fix(contractions(sent)))"
      ],
      "execution_count": 0,
      "outputs": [
        {
          "output_type": "stream",
          "text": [
            "you have three, so can not dont\n",
            "you have three, so can not do not\n"
          ],
          "name": "stdout"
        }
      ]
    },
    {
      "cell_type": "code",
      "metadata": {
        "id": "L4aOwvHQ9idt",
        "colab_type": "code",
        "colab": {}
      },
      "source": [
        "df.text = df.text.apply(lambda x: preprocess(x))"
      ],
      "execution_count": 0,
      "outputs": []
    },
    {
      "cell_type": "code",
      "metadata": {
        "id": "9r8m5t8K_BVm",
        "colab_type": "code",
        "outputId": "b607fc55-98d2-4841-c56b-45798c6e3956",
        "colab": {
          "base_uri": "https://localhost:8080/",
          "height": 68
        }
      },
      "source": [
        "df['target'].value_counts()"
      ],
      "execution_count": 0,
      "outputs": [
        {
          "output_type": "execute_result",
          "data": {
            "text/plain": [
              "4    800000\n",
              "0    800000\n",
              "Name: target, dtype: int64"
            ]
          },
          "metadata": {
            "tags": []
          },
          "execution_count": 10
        }
      ]
    },
    {
      "cell_type": "markdown",
      "metadata": {
        "id": "4aLlZv-ga32Y",
        "colab_type": "text"
      },
      "source": [
        "Lets label encode the data, we know\n",
        "- 0 = negative\n",
        "- 2 = neutral\n",
        "- 4 = positive\n",
        "\n",
        "We need to ensure that there is no class imbalance when training the model. If there is an imbalance, we need to add weights or use other methods to ensure that the model doesnt favour one target class over the other. "
      ]
    },
    {
      "cell_type": "code",
      "metadata": {
        "id": "gtEJ4frg_WNf",
        "colab_type": "code",
        "colab": {}
      },
      "source": [
        "label_encoding = {0: \"negative\", 2: \"neutral\", 4: \"positive\"}\n",
        "df.target = df.target.apply(lambda x: label_encoding[int(x)])"
      ],
      "execution_count": 0,
      "outputs": []
    },
    {
      "cell_type": "code",
      "metadata": {
        "id": "Q6i8QSgR_q7x",
        "colab_type": "code",
        "outputId": "9b4679cc-bf99-440f-89bb-25354c435b9b",
        "colab": {
          "base_uri": "https://localhost:8080/",
          "height": 80
        }
      },
      "source": [
        "df.head(1)"
      ],
      "execution_count": 0,
      "outputs": [
        {
          "output_type": "execute_result",
          "data": {
            "text/html": [
              "<div>\n",
              "<style scoped>\n",
              "    .dataframe tbody tr th:only-of-type {\n",
              "        vertical-align: middle;\n",
              "    }\n",
              "\n",
              "    .dataframe tbody tr th {\n",
              "        vertical-align: top;\n",
              "    }\n",
              "\n",
              "    .dataframe thead th {\n",
              "        text-align: right;\n",
              "    }\n",
              "</style>\n",
              "<table border=\"1\" class=\"dataframe\">\n",
              "  <thead>\n",
              "    <tr style=\"text-align: right;\">\n",
              "      <th></th>\n",
              "      <th>target</th>\n",
              "      <th>ids</th>\n",
              "      <th>date</th>\n",
              "      <th>flag</th>\n",
              "      <th>user</th>\n",
              "      <th>text</th>\n",
              "    </tr>\n",
              "  </thead>\n",
              "  <tbody>\n",
              "    <tr>\n",
              "      <th>0</th>\n",
              "      <td>negative</td>\n",
              "      <td>1467810369</td>\n",
              "      <td>Mon Apr 06 22:19:45 PDT 2009</td>\n",
              "      <td>NO_QUERY</td>\n",
              "      <td>_TheSpecialOne_</td>\n",
              "      <td>Awww that s a bummer You shoulda got David Car...</td>\n",
              "    </tr>\n",
              "  </tbody>\n",
              "</table>\n",
              "</div>"
            ],
            "text/plain": [
              "     target  ...                                               text\n",
              "0  negative  ...  Awww that s a bummer You shoulda got David Car...\n",
              "\n",
              "[1 rows x 6 columns]"
            ]
          },
          "metadata": {
            "tags": []
          },
          "execution_count": 12
        }
      ]
    },
    {
      "cell_type": "markdown",
      "metadata": {
        "id": "8EYsJXk0bDVJ",
        "colab_type": "text"
      },
      "source": [
        "Lets check if there are any null values "
      ]
    },
    {
      "cell_type": "code",
      "metadata": {
        "id": "hxfJUaG5bMpy",
        "colab_type": "code",
        "outputId": "5c03ddfd-1d11-4e06-bf84-917ea38a044b",
        "colab": {
          "base_uri": "https://localhost:8080/",
          "height": 136
        }
      },
      "source": [
        "# check is there are any null values. If yes, then drop those\n",
        "df = df[df['text'].notnull()]\n",
        "df = df[df['text']!= '']\n",
        "df = df.reset_index(drop=True)\n",
        "df.isnull().sum()"
      ],
      "execution_count": 0,
      "outputs": [
        {
          "output_type": "execute_result",
          "data": {
            "text/plain": [
              "target    0\n",
              "ids       0\n",
              "date      0\n",
              "flag      0\n",
              "user      0\n",
              "text      0\n",
              "dtype: int64"
            ]
          },
          "metadata": {
            "tags": []
          },
          "execution_count": 13
        }
      ]
    },
    {
      "cell_type": "code",
      "metadata": {
        "id": "0F9p63Qok-dT",
        "colab_type": "code",
        "outputId": "5eff9497-19b6-4727-e09e-c77df7b0eed9",
        "colab": {
          "base_uri": "https://localhost:8080/",
          "height": 34
        }
      },
      "source": [
        "df.shape"
      ],
      "execution_count": 0,
      "outputs": [
        {
          "output_type": "execute_result",
          "data": {
            "text/plain": [
              "(1596482, 6)"
            ]
          },
          "metadata": {
            "tags": []
          },
          "execution_count": 14
        }
      ]
    },
    {
      "cell_type": "code",
      "metadata": {
        "id": "RplirBImzhcT",
        "colab_type": "code",
        "outputId": "4a6163fe-cc1a-446d-d4af-67964b5df7ad",
        "colab": {
          "base_uri": "https://localhost:8080/",
          "height": 34
        }
      },
      "source": [
        "df['text'].apply(lambda x : len(x.split(' '))).quantile(0.99)"
      ],
      "execution_count": 0,
      "outputs": [
        {
          "output_type": "execute_result",
          "data": {
            "text/plain": [
              "30.0"
            ]
          },
          "metadata": {
            "tags": []
          },
          "execution_count": 15
        }
      ]
    },
    {
      "cell_type": "code",
      "metadata": {
        "id": "UTPZhDjVn4CS",
        "colab_type": "code",
        "colab": {}
      },
      "source": [
        "df.to_csv(\"prepro_final_twitter.csv\", sep=\";\", index = False)"
      ],
      "execution_count": 0,
      "outputs": []
    },
    {
      "cell_type": "markdown",
      "metadata": {
        "id": "a-JB8mTt_OSo",
        "colab_type": "text"
      },
      "source": [
        "# Pre-processing complete\n",
        "- Lets save it to a file\n",
        "- We are only interested in 2 columns : target and text "
      ]
    },
    {
      "cell_type": "code",
      "metadata": {
        "id": "23gq7vlsJq8L",
        "colab_type": "code",
        "outputId": "b953f0e4-0ebd-4c86-fc65-f2500d964fbe",
        "colab": {
          "base_uri": "https://localhost:8080/",
          "height": 97
        }
      },
      "source": [
        "#df = pd.read_csv(\"/content/drive/My Drive/prepro_final_twitter.csv\", sep=\";\") \n",
        "df = pd.read_csv(\"prepro_final_twitter.csv\", sep=\";\")\n",
        "df.head(1)"
      ],
      "execution_count": 0,
      "outputs": [
        {
          "output_type": "execute_result",
          "data": {
            "text/html": [
              "<div>\n",
              "<style scoped>\n",
              "    .dataframe tbody tr th:only-of-type {\n",
              "        vertical-align: middle;\n",
              "    }\n",
              "\n",
              "    .dataframe tbody tr th {\n",
              "        vertical-align: top;\n",
              "    }\n",
              "\n",
              "    .dataframe thead th {\n",
              "        text-align: right;\n",
              "    }\n",
              "</style>\n",
              "<table border=\"1\" class=\"dataframe\">\n",
              "  <thead>\n",
              "    <tr style=\"text-align: right;\">\n",
              "      <th></th>\n",
              "      <th>target</th>\n",
              "      <th>ids</th>\n",
              "      <th>date</th>\n",
              "      <th>flag</th>\n",
              "      <th>user</th>\n",
              "      <th>text</th>\n",
              "    </tr>\n",
              "  </thead>\n",
              "  <tbody>\n",
              "    <tr>\n",
              "      <th>0</th>\n",
              "      <td>negative</td>\n",
              "      <td>1467810369</td>\n",
              "      <td>Mon Apr 06 22:19:45 PDT 2009</td>\n",
              "      <td>NO_QUERY</td>\n",
              "      <td>_TheSpecialOne_</td>\n",
              "      <td>Awww that s a bummer You shoulda got David Car...</td>\n",
              "    </tr>\n",
              "  </tbody>\n",
              "</table>\n",
              "</div>"
            ],
            "text/plain": [
              "     target  ...                                               text\n",
              "0  negative  ...  Awww that s a bummer You shoulda got David Car...\n",
              "\n",
              "[1 rows x 6 columns]"
            ]
          },
          "metadata": {
            "tags": []
          },
          "execution_count": 14
        }
      ]
    },
    {
      "cell_type": "code",
      "metadata": {
        "id": "jJ7YpBqusnAP",
        "colab_type": "code",
        "outputId": "add8aabf-24e8-4e21-b1e8-b936d3d76a1c",
        "colab": {
          "base_uri": "https://localhost:8080/",
          "height": 97
        }
      },
      "source": [
        "data = df[['target','text']].copy()\n",
        "data['text'] = data['text'].astype(str)\n",
        "display(data.head(1))\n",
        "data.shape"
      ],
      "execution_count": 0,
      "outputs": [
        {
          "output_type": "display_data",
          "data": {
            "text/html": [
              "<div>\n",
              "<style scoped>\n",
              "    .dataframe tbody tr th:only-of-type {\n",
              "        vertical-align: middle;\n",
              "    }\n",
              "\n",
              "    .dataframe tbody tr th {\n",
              "        vertical-align: top;\n",
              "    }\n",
              "\n",
              "    .dataframe thead th {\n",
              "        text-align: right;\n",
              "    }\n",
              "</style>\n",
              "<table border=\"1\" class=\"dataframe\">\n",
              "  <thead>\n",
              "    <tr style=\"text-align: right;\">\n",
              "      <th></th>\n",
              "      <th>target</th>\n",
              "      <th>text</th>\n",
              "    </tr>\n",
              "  </thead>\n",
              "  <tbody>\n",
              "    <tr>\n",
              "      <th>0</th>\n",
              "      <td>negative</td>\n",
              "      <td>Awww that s a bummer You shoulda got David Car...</td>\n",
              "    </tr>\n",
              "  </tbody>\n",
              "</table>\n",
              "</div>"
            ],
            "text/plain": [
              "     target                                               text\n",
              "0  negative  Awww that s a bummer You shoulda got David Car..."
            ]
          },
          "metadata": {
            "tags": []
          }
        },
        {
          "output_type": "execute_result",
          "data": {
            "text/plain": [
              "(1596482, 2)"
            ]
          },
          "metadata": {
            "tags": []
          },
          "execution_count": 15
        }
      ]
    },
    {
      "cell_type": "code",
      "metadata": {
        "id": "wPDsx_xdoHOh",
        "colab_type": "code",
        "outputId": "4f17415a-1b2c-48bf-dfa5-58a00677f4b0",
        "colab": {
          "base_uri": "https://localhost:8080/",
          "height": 299
        }
      },
      "source": [
        "class_dist = data.target.value_counts()\n",
        "class_dist.plot(kind='bar')\n",
        "plt.show()"
      ],
      "execution_count": 0,
      "outputs": [
        {
          "output_type": "display_data",
          "data": {
            "image/png": "[encoded data removed]",
            "text/plain": [
              "<Figure size 432x288 with 1 Axes>"
            ]
          },
          "metadata": {
            "tags": [],
            "needs_background": "light"
          }
        }
      ]
    },
    {
      "cell_type": "markdown",
      "metadata": {
        "id": "SajUlNfCXKNX",
        "colab_type": "text"
      },
      "source": [
        "## Split the dataset\n",
        "- We can note that the target class has an equal distribution before the split. \n",
        "- We need to check the distribution after the split"
      ]
    },
    {
      "cell_type": "code",
      "metadata": {
        "id": "8Cxmc9gRXRqR",
        "colab_type": "code",
        "outputId": "8503ca03-a9fc-4bf3-e483-8722ba518573",
        "colab": {
          "base_uri": "https://localhost:8080/",
          "height": 51
        }
      },
      "source": [
        "X_train, X_test, Y_train, Y_test = train_test_split(data['text'].tolist(), data['target'].tolist(), test_size=0.20, random_state=17)\n",
        "print(X_train[1])\n",
        "print(Y_train[1])"
      ],
      "execution_count": 0,
      "outputs": [
        {
          "output_type": "stream",
          "text": [
            "I am about to go watch Americas Most Wanted\n",
            "positive\n"
          ],
          "name": "stdout"
        }
      ]
    },
    {
      "cell_type": "code",
      "metadata": {
        "id": "YthMCd1DmqZk",
        "colab_type": "code",
        "outputId": "c9a644c3-4924-49e6-a5d3-7ab52b9ac275",
        "colab": {
          "base_uri": "https://localhost:8080/",
          "height": 34
        }
      },
      "source": [
        "# get an idea of the distribution in train dataset \n",
        "count = Counter(Y_train)\n",
        "print('Distribution of the classes in Train dataset:', count)"
      ],
      "execution_count": 0,
      "outputs": [
        {
          "output_type": "stream",
          "text": [
            "Distribution of the classes in Train dataset: Counter({'negative': 638603, 'positive': 638582})\n"
          ],
          "name": "stdout"
        }
      ]
    },
    {
      "cell_type": "code",
      "metadata": {
        "id": "0gYaTS-fpa6Q",
        "colab_type": "code",
        "outputId": "9e1eff60-d551-44d4-a997-7303f2c96cd1",
        "colab": {
          "base_uri": "https://localhost:8080/",
          "height": 265
        }
      },
      "source": [
        "plt.bar(count.keys(), count.values())\n",
        "plt.show()"
      ],
      "execution_count": 0,
      "outputs": [
        {
          "output_type": "display_data",
          "data": {
            "image/png": "[encoded data removed]",
            "text/plain": [
              "<Figure size 432x288 with 1 Axes>"
            ]
          },
          "metadata": {
            "tags": [],
            "needs_background": "light"
          }
        }
      ]
    },
    {
      "cell_type": "markdown",
      "metadata": {
        "id": "bSNoqLZhiBe3",
        "colab_type": "text"
      },
      "source": [
        "# Tokenising and other preparation \n",
        "- fit_on_text will go through all the text and create dictionary\n",
        "- The sequences that we use to train the nueral networks should have same length. In our dataset, the max_length is 50. \n",
        "- So we post pad the data accordingly (Pad at the end of the sequence, and trunkate at the end if needed) "
      ]
    },
    {
      "cell_type": "code",
      "metadata": {
        "id": "261Lhz15Sk_j",
        "colab_type": "code",
        "colab": {}
      },
      "source": [
        "# tokenize the sentences\n",
        "tokenizer = Tokenizer()\n",
        "tokenizer.fit_on_texts(X_train)\n",
        "\n",
        "# We note the vocab_size :  total number of words in text +1 since 0 is used for padding\n",
        "vocab_size = len(tokenizer.word_index)+1 \n",
        "\n",
        "# create sequences \n",
        "X_train = tokenizer.texts_to_sequences(X_train) \n",
        "X_test = tokenizer.texts_to_sequences(X_test)\n",
        "\n",
        "#pad sequences that are less than the max so that all sequences are the same length \n",
        "X_train_final = pad_sequences(X_train, padding=padding_type, maxlen=max_length, truncating=trunc_type) \n",
        "X_test_final = pad_sequences(X_test, padding=padding_type, maxlen=max_length, truncating=trunc_type)\n",
        "\n",
        "# do the same for label \n",
        "label_tokenizer = Tokenizer()\n",
        "\n",
        "label_tokenizer.fit_on_texts(Y_train)\n",
        "Y_train_final = np.array(label_tokenizer.texts_to_sequences(Y_train))\n",
        "\n",
        "label_tokenizer.fit_on_texts(Y_test)\n",
        "Y_test_final = np.array(label_tokenizer.texts_to_sequences(Y_test))"
      ],
      "execution_count": 0,
      "outputs": []
    },
    {
      "cell_type": "code",
      "metadata": {
        "id": "CyaaEvf0zUEO",
        "colab_type": "code",
        "outputId": "b94754b5-140a-40ec-802b-3a28d3417015",
        "colab": {
          "base_uri": "https://localhost:8080/",
          "height": 292
        }
      },
      "source": [
        "print('Total no. of Tokens:', vocab_size,'\\n')\n",
        "print('tweet : ', X_train[2])\n",
        "print('tweet : ', Y_train[2],'\\n')\n",
        "print('model interpretation of the tweet : ', X_train_final[2] , '\\n')\n",
        "print('model interpretation of the tweet : ', Y_train_final[2] , '\\n')\n",
        "\n",
        "print(X_train_final.shape)\n",
        "print(Y_train_final.shape)\n",
        "\n",
        "print(X_test_final.shape)\n",
        "print(Y_test_final.shape)"
      ],
      "execution_count": 0,
      "outputs": [
        {
          "output_type": "stream",
          "text": [
            "Total no. of Tokens: 272612 \n",
            "\n",
            "tweet :  [97926, 1, 55, 2, 38, 4, 4323, 41, 992, 1649, 992, 20, 3, 4537, 1880]\n",
            "tweet :  positive \n",
            "\n",
            "model interpretation of the tweet :  [97926     1    55     2    38     4  4323    41   992  1649   992    20\n",
            "     3  4537  1880     0     0     0     0     0     0     0     0     0\n",
            "     0     0     0     0     0     0] \n",
            "\n",
            "model interpretation of the tweet :  [2] \n",
            "\n",
            "(1277185, 30)\n",
            "(1277185, 1)\n",
            "(319297, 30)\n",
            "(319297, 1)\n"
          ],
          "name": "stdout"
        }
      ]
    },
    {
      "cell_type": "markdown",
      "metadata": {
        "id": "iSvMrm1W7a7f",
        "colab_type": "text"
      },
      "source": [
        "# Model trainings \n",
        "We have tokenised and padded our training and test data. Now we will propose and evaluate different architectures. Lets start with CNN which will be our baseline"
      ]
    },
    {
      "cell_type": "markdown",
      "metadata": {
        "id": "ZEuNFJe9hf5D",
        "colab_type": "text"
      },
      "source": [
        "# Code for plotting"
      ]
    },
    {
      "cell_type": "code",
      "metadata": {
        "id": "3P0WfIerhZbT",
        "colab_type": "code",
        "colab": {}
      },
      "source": [
        "def plot_graphs(history, string_needed):\n",
        "  plt.plot(history.history[string_needed])\n",
        "  plt.plot(history.history['val_'+string_needed])\n",
        "  plt.xlabel(\"Epoch values\")\n",
        "  plt.ylabel(string_needed)\n",
        "  plt.legend(['train', 'test'], loc = 'upper left')\n",
        "  plt.show()"
      ],
      "execution_count": 0,
      "outputs": []
    },
    {
      "cell_type": "markdown",
      "metadata": {
        "id": "9NwhLGmfRSm9",
        "colab_type": "text"
      },
      "source": [
        "# Model 1 : CNN is done in another notebook"
      ]
    },
    {
      "cell_type": "markdown",
      "metadata": {
        "id": "UBQqBsnXZ5Qa",
        "colab_type": "text"
      },
      "source": [
        "# model 2 : LSTM"
      ]
    },
    {
      "cell_type": "markdown",
      "metadata": {
        "id": "rdRn0EuI9Z7F",
        "colab_type": "text"
      },
      "source": [
        "- Embedding layer : its a matrix of word vectors. It stores 1 vector per word. The input vocab size is (vocab+1) and output is 128\n",
        "- LSTM : type of RNN that enables 'building' of the state over time unlike RNN\n",
        "- Dense layer : we have 3 output classes. It uses softmax activation function.  \n",
        "- When we have 3 outputs, softmax convert outputs layers into a probability distribution for these 3 classes."
      ]
    },
    {
      "cell_type": "markdown",
      "metadata": {
        "id": "6TQtMgOJKd6b",
        "colab_type": "text"
      },
      "source": [
        "Lets start with a basic 3-layer model"
      ]
    },
    {
      "cell_type": "code",
      "metadata": {
        "id": "rwcgucWTIjVy",
        "colab_type": "code",
        "outputId": "aa47077d-8bb6-4aa3-b382-7d041b293a01",
        "colab": {
          "base_uri": "https://localhost:8080/",
          "height": 289
        }
      },
      "source": [
        "lstm_1 = tf.keras.Sequential()\n",
        "lstm_1.add(tf.keras.layers.Embedding(input_dim = vocab_size+1,input_length=30, output_dim=64))\n",
        "lstm_1.add(tf.keras.layers.LSTM(128))\n",
        "lstm_1.add(tf.keras.layers.Dense(64, activation='relu'))\n",
        "lstm_1.add(tf.keras.layers.Dense(3, activation='softmax'))\n",
        "lstm_1.compile(loss='sparse_categorical_crossentropy',optimizer='adam',metrics=['accuracy'])\n",
        "lstm_1.summary()"
      ],
      "execution_count": 0,
      "outputs": [
        {
          "output_type": "stream",
          "text": [
            "Model: \"sequential\"\n",
            "_________________________________________________________________\n",
            "Layer (type)                 Output Shape              Param #   \n",
            "=================================================================\n",
            "embedding (Embedding)        (None, 30, 64)            17447232  \n",
            "_________________________________________________________________\n",
            "lstm (LSTM)                  (None, 128)               98816     \n",
            "_________________________________________________________________\n",
            "dense (Dense)                (None, 64)                8256      \n",
            "_________________________________________________________________\n",
            "dense_1 (Dense)              (None, 3)                 195       \n",
            "=================================================================\n",
            "Total params: 17,554,499\n",
            "Trainable params: 17,554,499\n",
            "Non-trainable params: 0\n",
            "_________________________________________________________________\n"
          ],
          "name": "stdout"
        }
      ]
    },
    {
      "cell_type": "code",
      "metadata": {
        "id": "aQnEbBLQSq0Y",
        "colab_type": "code",
        "outputId": "f1c666a8-643c-4b9d-8f60-923ba5899bad",
        "colab": {
          "base_uri": "https://localhost:8080/",
          "height": 1000
        }
      },
      "source": [
        "#train model \n",
        "lstm_arch_1 = lstm_1.fit(X_train_final, Y_train_final,batch_size=256, epochs=10, verbose=1, validation_split=0.2) \n",
        "lstm_score_1 = lstm_1.evaluate(X_test_final, Y_test_final, verbose=1)"
      ],
      "execution_count": 0,
      "outputs": [
        {
          "output_type": "stream",
          "text": [
            "Epoch 1/10\n",
            "3992/3992 [==============================] - 664s 166ms/step - loss: 0.4317 - accuracy: 0.7982 - val_loss: 0.3956 - val_accuracy: 0.8209\n",
            "Epoch 2/10\n",
            "3992/3992 [==============================] - 659s 165ms/step - loss: 0.3574 - accuracy: 0.8419 - val_loss: 0.4000 - val_accuracy: 0.8201\n",
            "Epoch 3/10\n",
            "3992/3992 [==============================] - 656s 164ms/step - loss: 0.3135 - accuracy: 0.8645 - val_loss: 0.4100 - val_accuracy: 0.8202\n",
            "Epoch 4/10\n",
            "3992/3992 [==============================] - 658s 165ms/step - loss: 0.2743 - accuracy: 0.8831 - val_loss: 0.4446 - val_accuracy: 0.8118\n",
            "Epoch 5/10\n",
            "3992/3992 [==============================] - 656s 164ms/step - loss: 0.2384 - accuracy: 0.8991 - val_loss: 0.5064 - val_accuracy: 0.8106\n",
            "Epoch 6/10\n",
            "3992/3992 [==============================] - 655s 164ms/step - loss: 0.2100 - accuracy: 0.9111 - val_loss: 0.5487 - val_accuracy: 0.8072\n",
            "Epoch 7/10\n",
            "3992/3992 [==============================] - 655s 164ms/step - loss: 0.1890 - accuracy: 0.9202 - val_loss: 0.6219 - val_accuracy: 0.8029\n",
            "Epoch 8/10\n",
            "3992/3992 [==============================] - 656s 164ms/step - loss: 0.1728 - accuracy: 0.9269 - val_loss: 0.6773 - val_accuracy: 0.8005\n",
            "Epoch 9/10\n",
            "3992/3992 [==============================] - 653s 164ms/step - loss: 0.1599 - accuracy: 0.9325 - val_loss: 0.7051 - val_accuracy: 0.7991\n",
            "Epoch 10/10\n",
            "3992/3992 [==============================] - 656s 164ms/step - loss: 0.1484 - accuracy: 0.9376 - val_loss: 0.7633 - val_accuracy: 0.7935\n",
            "9979/9979 [==============================] - 28s 3ms/step - loss: 0.7700 - accuracy: 0.7929\n"
          ],
          "name": "stdout"
        }
      ]
    },
    {
      "cell_type": "code",
      "metadata": {
        "id": "o375h9_PgNIb",
        "colab_type": "code",
        "outputId": "df0e9b0f-d774-4a87-ac84-85170296ce4a",
        "colab": {
          "base_uri": "https://localhost:8080/",
          "height": 541
        }
      },
      "source": [
        "plot_graphs(lstm_arch_1, \"accuracy\")\n",
        "plot_graphs(lstm_arch_1, \"loss\");"
      ],
      "execution_count": 0,
      "outputs": [
        {
          "output_type": "display_data",
          "data": {
            "image/png": "[encoded data removed]",
            "text/plain": [
              "<Figure size 432x288 with 1 Axes>"
            ]
          },
          "metadata": {
            "tags": [],
            "needs_background": "light"
          }
        },
        {
          "output_type": "display_data",
          "data": {
            "image/png": "[encoded data removed]",
            "text/plain": [
              "<Figure size 432x288 with 1 Axes>"
            ]
          },
          "metadata": {
            "tags": [],
            "needs_background": "light"
          }
        }
      ]
    },
    {
      "cell_type": "markdown",
      "metadata": {
        "id": "Cf2O1VR2zSDE",
        "colab_type": "text"
      },
      "source": [
        ""
      ]
    },
    {
      "cell_type": "markdown",
      "metadata": {
        "id": "G2Bq-xc7qs5f",
        "colab_type": "text"
      },
      "source": [
        "# Model 2 Architecture 2 : Bidirectional LSTM\n",
        "- We'll use Bidirectional LSTM. This layer reads in both directions : forward and backward and allows the model to access the information from both the past as well as the future. \n",
        "- It performs better than LSTM\n",
        "- Dropout is added. It helps to reduce over-fitting. ![alt text](https://)"
      ]
    },
    {
      "cell_type": "code",
      "metadata": {
        "id": "oT9W7o7LyCXH",
        "colab_type": "code",
        "outputId": "ad5ef400-008e-4483-a0a3-3c59419ab541",
        "colab": {
          "base_uri": "https://localhost:8080/",
          "height": 289
        }
      },
      "source": [
        "lstm_2 = tf.keras.Sequential()\n",
        "lstm_2.add(tf.keras.layers.Embedding(input_dim = vocab_size,input_length=30, output_dim=64))\n",
        "lstm_2.add(tf.keras.layers.Bidirectional(tf.keras.layers.LSTM(64, dropout=0.25)))\n",
        "lstm_2.add(tf.keras.layers.Dense(64, activation='relu'))\n",
        "lstm_2.add(tf.keras.layers.Dense(3, activation='softmax'))\n",
        "lstm_2.compile(loss='sparse_categorical_crossentropy',optimizer='adam',metrics=['accuracy'])\n",
        "lstm_2.summary()"
      ],
      "execution_count": 0,
      "outputs": [
        {
          "output_type": "stream",
          "text": [
            "Model: \"sequential_2\"\n",
            "_________________________________________________________________\n",
            "Layer (type)                 Output Shape              Param #   \n",
            "=================================================================\n",
            "embedding_2 (Embedding)      (None, 30, 64)            17447168  \n",
            "_________________________________________________________________\n",
            "bidirectional_1 (Bidirection (None, 128)               66048     \n",
            "_________________________________________________________________\n",
            "dense_4 (Dense)              (None, 64)                8256      \n",
            "_________________________________________________________________\n",
            "dense_5 (Dense)              (None, 3)                 195       \n",
            "=================================================================\n",
            "Total params: 17,521,667\n",
            "Trainable params: 17,521,667\n",
            "Non-trainable params: 0\n",
            "_________________________________________________________________\n"
          ],
          "name": "stdout"
        }
      ]
    },
    {
      "cell_type": "code",
      "metadata": {
        "id": "rhFIAiMJyKdw",
        "colab_type": "code",
        "outputId": "df2772df-ed35-4501-de37-1ec32af94698",
        "colab": {
          "base_uri": "https://localhost:8080/",
          "height": 1000
        }
      },
      "source": [
        "#train model \n",
        "lstm_arch_2 = lstm_2.fit(X_train_final, Y_train_final,batch_size=256, epochs=10, verbose=1, validation_split=0.2) \n",
        "lstm_score_2 = lstm_2.evaluate(X_test_final, Y_test_final, verbose=1)"
      ],
      "execution_count": 0,
      "outputs": [
        {
          "output_type": "stream",
          "text": [
            "Epoch 1/10\n",
            "3992/3992 [==============================] - 659s 165ms/step - loss: 0.4236 - accuracy: 0.8051 - val_loss: 0.3944 - val_accuracy: 0.8213\n",
            "Epoch 2/10\n",
            "3992/3992 [==============================] - 661s 166ms/step - loss: 0.3624 - accuracy: 0.8390 - val_loss: 0.3967 - val_accuracy: 0.8212\n",
            "Epoch 3/10\n",
            "3992/3992 [==============================] - 664s 166ms/step - loss: 0.3257 - accuracy: 0.8580 - val_loss: 0.4042 - val_accuracy: 0.8200\n",
            "Epoch 4/10\n",
            "3992/3992 [==============================] - 660s 165ms/step - loss: 0.2952 - accuracy: 0.8728 - val_loss: 0.4205 - val_accuracy: 0.8183\n",
            "Epoch 5/10\n",
            "3992/3992 [==============================] - 660s 165ms/step - loss: 0.2680 - accuracy: 0.8856 - val_loss: 0.4464 - val_accuracy: 0.8158\n",
            "Epoch 6/10\n",
            "3992/3992 [==============================] - 658s 165ms/step - loss: 0.2436 - accuracy: 0.8964 - val_loss: 0.4791 - val_accuracy: 0.8135\n",
            "Epoch 7/10\n",
            "3992/3992 [==============================] - 658s 165ms/step - loss: 0.2245 - accuracy: 0.9044 - val_loss: 0.5324 - val_accuracy: 0.8101\n",
            "Epoch 8/10\n",
            "3992/3992 [==============================] - 666s 167ms/step - loss: 0.2099 - accuracy: 0.9105 - val_loss: 0.5714 - val_accuracy: 0.8085\n",
            "Epoch 9/10\n",
            "3992/3992 [==============================] - 660s 165ms/step - loss: 0.1988 - accuracy: 0.9157 - val_loss: 0.5972 - val_accuracy: 0.8079\n",
            "Epoch 10/10\n",
            "3992/3992 [==============================] - 661s 166ms/step - loss: 0.1895 - accuracy: 0.9196 - val_loss: 0.6243 - val_accuracy: 0.8067\n",
            "9979/9979 [==============================] - 36s 4ms/step - loss: 0.6276 - accuracy: 0.8055\n"
          ],
          "name": "stdout"
        }
      ]
    },
    {
      "cell_type": "code",
      "metadata": {
        "id": "yzFnhEHc93nz",
        "colab_type": "code",
        "outputId": "188acf93-457f-4ac6-bc82-aa0861cb9dda",
        "colab": {
          "base_uri": "https://localhost:8080/",
          "height": 541
        }
      },
      "source": [
        "plot_graphs(lstm_arch_2, \"accuracy\")\n",
        "plot_graphs(lstm_arch_2, \"loss\");"
      ],
      "execution_count": 0,
      "outputs": [
        {
          "output_type": "display_data",
          "data": {
            "image/png": "[encoded data removed]",
            "text/plain": [
              "<Figure size 432x288 with 1 Axes>"
            ]
          },
          "metadata": {
            "tags": [],
            "needs_background": "light"
          }
        },
        {
          "output_type": "display_data",
          "data": {
            "image/png": "[encoded data removed]",
            "text/plain": [
              "<Figure size 432x288 with 1 Axes>"
            ]
          },
          "metadata": {
            "tags": [],
            "needs_background": "light"
          }
        }
      ]
    },
    {
      "cell_type": "markdown",
      "metadata": {
        "id": "NEqEQoTtsDi6",
        "colab_type": "text"
      },
      "source": [
        "# Model 2 architecture 3 : glove + LSTM \n",
        "- Initially we are building the word vectores from scratch, but instead we can use pre-trained word vectors trained against several billions of documents. \n",
        "- Using Transfer Learning helps improve performance. Its a type of learning where the existing model weights are changed, and rather used for a new task\n",
        "- We are using Glove embeddings : there is a specail twitter data thats present in Glove\n",
        "- This should imporve the performance\n"
      ]
    },
    {
      "cell_type": "code",
      "metadata": {
        "id": "-vK9iWAuVdOD",
        "colab_type": "code",
        "colab": {}
      },
      "source": [
        "#file used for glove embeddings \n",
        "#embeddingsFile = '/content/drive/My Drive/glove.twitter.27B.100d.txt' \n",
        "embeddingsFile = \"glove.twitter.27B.100d.txt\"\n",
        "embedding_dim=100\n",
        "embeddings_index = {};\n",
        "with open(embeddingsFile) as file:\n",
        "    for line in file:\n",
        "        values = line.split();\n",
        "        phrase = values[0]\n",
        "        coefficients = np.asarray(values[1:], dtype='float32')\n",
        "        embeddings_index[phrase] = coefficients;\n",
        "        \n",
        "#the input matrix for the embedding_layer.  must be size (batch, input_length) \n",
        "#each column wil contain the GloVe word embeddings for the words from each row\n",
        "\n",
        "embeddings_matrix = np.zeros((vocab_size, embedding_dim))\n",
        "for word, i in tokenizer.word_index.items():\n",
        "    embedding_vector = embeddings_index.get(word)\n",
        "    if embedding_vector is not None:\n",
        "        embeddings_matrix[i] = embedding_vector"
      ],
      "execution_count": 0,
      "outputs": []
    },
    {
      "cell_type": "code",
      "metadata": {
        "id": "I__n3-8Nicv4",
        "colab_type": "code",
        "outputId": "21c24ebe-4d3e-400d-e04a-bdc1abebf40f",
        "colab": {
          "base_uri": "https://localhost:8080/",
          "height": 289
        }
      },
      "source": [
        "lstm_3_relu = tf.keras.Sequential()\n",
        "lstm_3_relu.add(tf.keras.layers.Embedding(input_dim = vocab_size, output_dim=100, input_length=max_length, weights=[embeddings_matrix], trainable=False))\n",
        "lstm_3_relu.add(tf.keras.layers.Bidirectional(tf.keras.layers.LSTM(64, dropout=0.25)))\n",
        "lstm_3_relu.add(tf.keras.layers.Dense(64, activation='relu'))\n",
        "lstm_3_relu.add(tf.keras.layers.Dense(3, activation='softmax'))\n",
        "lstm_3_relu.compile(loss='sparse_categorical_crossentropy',optimizer='adam',metrics=['accuracy'])\n",
        "lstm_3_relu.summary()"
      ],
      "execution_count": 0,
      "outputs": [
        {
          "output_type": "stream",
          "text": [
            "Model: \"sequential_10\"\n",
            "_________________________________________________________________\n",
            "Layer (type)                 Output Shape              Param #   \n",
            "=================================================================\n",
            "embedding_9 (Embedding)      (None, 30, 100)           27261200  \n",
            "_________________________________________________________________\n",
            "bidirectional_8 (Bidirection (None, 128)               84480     \n",
            "_________________________________________________________________\n",
            "dense_18 (Dense)             (None, 64)                8256      \n",
            "_________________________________________________________________\n",
            "dense_19 (Dense)             (None, 3)                 195       \n",
            "=================================================================\n",
            "Total params: 27,354,131\n",
            "Trainable params: 92,931\n",
            "Non-trainable params: 27,261,200\n",
            "_________________________________________________________________\n"
          ],
          "name": "stdout"
        }
      ]
    },
    {
      "cell_type": "code",
      "metadata": {
        "id": "iBqe4DOeinOh",
        "colab_type": "code",
        "outputId": "d0ae1928-4d50-4997-8685-ada374f17aeb",
        "colab": {
          "base_uri": "https://localhost:8080/",
          "height": 1000
        }
      },
      "source": [
        "#train model \n",
        "lstm_arch_3_relu = lstm_3_relu.fit(X_train_final, Y_train_final,batch_size=256, epochs=20, verbose=1, validation_split=0.2) \n",
        "lstm_score_3_relu = lstm_3_relu.evaluate(X_test_final, Y_test_final, verbose=1)"
      ],
      "execution_count": 0,
      "outputs": [
        {
          "output_type": "stream",
          "text": [
            "Epoch 1/20\n",
            "3992/3992 [==============================] - 38s 9ms/step - loss: 0.4594 - accuracy: 0.7810 - val_loss: 0.4198 - val_accuracy: 0.8090\n",
            "Epoch 2/20\n",
            "3992/3992 [==============================] - 37s 9ms/step - loss: 0.4203 - accuracy: 0.8050 - val_loss: 0.4017 - val_accuracy: 0.8169\n",
            "Epoch 3/20\n",
            "3992/3992 [==============================] - 37s 9ms/step - loss: 0.4073 - accuracy: 0.8127 - val_loss: 0.3917 - val_accuracy: 0.8223\n",
            "Epoch 4/20\n",
            "3992/3992 [==============================] - 37s 9ms/step - loss: 0.3991 - accuracy: 0.8176 - val_loss: 0.3879 - val_accuracy: 0.8250\n",
            "Epoch 5/20\n",
            "3992/3992 [==============================] - 37s 9ms/step - loss: 0.3936 - accuracy: 0.8208 - val_loss: 0.3899 - val_accuracy: 0.8220\n",
            "Epoch 6/20\n",
            "3992/3992 [==============================] - 38s 10ms/step - loss: 0.3889 - accuracy: 0.8232 - val_loss: 0.3957 - val_accuracy: 0.8226\n",
            "Epoch 7/20\n",
            "3992/3992 [==============================] - 37s 9ms/step - loss: 0.3857 - accuracy: 0.8248 - val_loss: 0.3789 - val_accuracy: 0.8300\n",
            "Epoch 8/20\n",
            "3992/3992 [==============================] - 38s 9ms/step - loss: 0.3829 - accuracy: 0.8265 - val_loss: 0.3767 - val_accuracy: 0.8305\n",
            "Epoch 9/20\n",
            "3992/3992 [==============================] - 37s 9ms/step - loss: 0.3807 - accuracy: 0.8278 - val_loss: 0.3758 - val_accuracy: 0.8317\n",
            "Epoch 10/20\n",
            "3992/3992 [==============================] - 37s 9ms/step - loss: 0.3787 - accuracy: 0.8291 - val_loss: 0.3728 - val_accuracy: 0.8330\n",
            "Epoch 11/20\n",
            "3992/3992 [==============================] - 37s 9ms/step - loss: 0.3771 - accuracy: 0.8293 - val_loss: 0.3787 - val_accuracy: 0.8324\n",
            "Epoch 12/20\n",
            "3992/3992 [==============================] - 37s 9ms/step - loss: 0.3755 - accuracy: 0.8307 - val_loss: 0.3737 - val_accuracy: 0.8331\n",
            "Epoch 13/20\n",
            "3992/3992 [==============================] - 37s 9ms/step - loss: 0.3744 - accuracy: 0.8312 - val_loss: 0.3736 - val_accuracy: 0.8333\n",
            "Epoch 14/20\n",
            "3992/3992 [==============================] - 37s 9ms/step - loss: 0.3735 - accuracy: 0.8318 - val_loss: 0.3703 - val_accuracy: 0.8342\n",
            "Epoch 15/20\n",
            "3992/3992 [==============================] - 37s 9ms/step - loss: 0.3719 - accuracy: 0.8328 - val_loss: 0.3710 - val_accuracy: 0.8340\n",
            "Epoch 16/20\n",
            "3992/3992 [==============================] - 38s 9ms/step - loss: 0.3710 - accuracy: 0.8330 - val_loss: 0.3733 - val_accuracy: 0.8335\n",
            "Epoch 17/20\n",
            "3992/3992 [==============================] - 37s 9ms/step - loss: 0.3703 - accuracy: 0.8335 - val_loss: 0.3725 - val_accuracy: 0.8338\n",
            "Epoch 18/20\n",
            "3992/3992 [==============================] - 37s 9ms/step - loss: 0.3699 - accuracy: 0.8336 - val_loss: 0.3696 - val_accuracy: 0.8352\n",
            "Epoch 19/20\n",
            "3992/3992 [==============================] - 40s 10ms/step - loss: 0.3692 - accuracy: 0.8340 - val_loss: 0.3711 - val_accuracy: 0.8355\n",
            "Epoch 20/20\n",
            "3992/3992 [==============================] - 42s 10ms/step - loss: 0.3686 - accuracy: 0.8341 - val_loss: 0.3697 - val_accuracy: 0.8351\n",
            "9979/9979 [==============================] - 37s 4ms/step - loss: 0.3726 - accuracy: 0.8336\n"
          ],
          "name": "stdout"
        }
      ]
    },
    {
      "cell_type": "code",
      "metadata": {
        "id": "6r4kJIHGoowN",
        "colab_type": "code",
        "outputId": "fcab98ae-52b7-4a68-fe57-e5248e7db90c",
        "colab": {
          "base_uri": "https://localhost:8080/",
          "height": 541
        }
      },
      "source": [
        "plot_graphs(lstm_arch_3_relu, \"accuracy\")\n",
        "plot_graphs(lstm_arch_3_relu, \"loss\")"
      ],
      "execution_count": 0,
      "outputs": [
        {
          "output_type": "display_data",
          "data": {
            "image/png": "[encoded data removed]",
            "text/plain": [
              "<Figure size 432x288 with 1 Axes>"
            ]
          },
          "metadata": {
            "tags": [],
            "needs_background": "light"
          }
        },
        {
          "output_type": "display_data",
          "data": {
            "image/png": "[encoded data removed]",
            "text/plain": [
              "<Figure size 432x288 with 1 Axes>"
            ]
          },
          "metadata": {
            "tags": [],
            "needs_background": "light"
          }
        }
      ]
    },
    {
      "cell_type": "code",
      "metadata": {
        "id": "ZXqhr7LcRv-B",
        "colab_type": "code",
        "colab": {}
      },
      "source": [
        "checkpoint_path = \"./checkpoints/weights\"\n",
        "lstm_3.save_weights(checkpoint_path)\n",
        "lstm_3.save(\"lstm_3.h5\")"
      ],
      "execution_count": 0,
      "outputs": []
    },
    {
      "cell_type": "markdown",
      "metadata": {
        "id": "-A52ttWpwwwS",
        "colab_type": "text"
      },
      "source": [
        "# Model 2 architecture 4 : glove + additional dropout + LSTM \n",
        "- tf.keras.layers.Dropout(0.25) : loss: 0.3851 - accuracy: 0.8264\n",
        "- tf.keras.layers.SpatialDropout1D(0.25) : loss: 0.3903 - accuracy: 0.8243\n",
        "\n",
        "Adding dropout after LSTM layer : \n",
        "- tf.keras.layers.Dropout(0.25): loss: 0.3910 - accuracy: 0.8258\n",
        "\n",
        "Adding recurrent dropout : \n",
        "- tf.keras.layers.LSTM(64, dropout=0.2, recurrent_dropout=0.2) : loss: 0.3884 - accuracy: 0.8259\n",
        "\n",
        "Spatial Droput : same function as dropout, but drops the entire 1D feature map. Mianly used when the individual elemnts are strongly co-related, as this would regularise it better and enhances independence between feature maps. As expected, its not making much of a difference. \n",
        "\n",
        "- Not having a extra dropout layer has better results\n"
      ]
    },
    {
      "cell_type": "code",
      "metadata": {
        "id": "nZAFweOGrFXu",
        "colab_type": "code",
        "outputId": "ed1e73de-1b91-419c-d865-f2514aea2100",
        "colab": {
          "base_uri": "https://localhost:8080/",
          "height": 323
        }
      },
      "source": [
        "lstm_4_dropout = tf.keras.Sequential()\n",
        "lstm_4_dropout.add(tf.keras.layers.Embedding(input_dim = vocab_size, output_dim=100, input_length=max_length, weights=[embeddings_matrix], trainable=False))\n",
        "lstm_4_dropout.add(tf.keras.layers.SpatialDropout1D(0.25))\n",
        "lstm_4_dropout.add(tf.keras.layers.Bidirectional(tf.keras.layers.LSTM(64, dropout=0.25)))\n",
        "lstm_4_dropout.add(tf.keras.layers.Dense(64, activation='relu'))\n",
        "lstm_4_dropout.add(tf.keras.layers.Dense(3, activation='softmax'))\n",
        "lstm_4_dropout.compile(loss='sparse_categorical_crossentropy',optimizer='adam',metrics=['accuracy'])\n",
        "lstm_4_dropout.summary()"
      ],
      "execution_count": 0,
      "outputs": [
        {
          "output_type": "stream",
          "text": [
            "Model: \"sequential_22\"\n",
            "_________________________________________________________________\n",
            "Layer (type)                 Output Shape              Param #   \n",
            "=================================================================\n",
            "embedding_20 (Embedding)     (None, 30, 100)           27261200  \n",
            "_________________________________________________________________\n",
            "spatial_dropout1d_1 (Spatial (None, 30, 100)           0         \n",
            "_________________________________________________________________\n",
            "bidirectional_16 (Bidirectio (None, 128)               84480     \n",
            "_________________________________________________________________\n",
            "dense_35 (Dense)             (None, 64)                8256      \n",
            "_________________________________________________________________\n",
            "dense_36 (Dense)             (None, 3)                 195       \n",
            "=================================================================\n",
            "Total params: 27,354,131\n",
            "Trainable params: 92,931\n",
            "Non-trainable params: 27,261,200\n",
            "_________________________________________________________________\n"
          ],
          "name": "stdout"
        }
      ]
    },
    {
      "cell_type": "code",
      "metadata": {
        "id": "wJBvj85TrLgF",
        "colab_type": "code",
        "outputId": "b6c782ee-20e4-4cac-97f7-20f7b882d06b",
        "colab": {
          "base_uri": "https://localhost:8080/",
          "height": 1000
        }
      },
      "source": [
        "#train model \n",
        "lstm_arch_4_dropout = lstm_4_dropout.fit(X_train_final, Y_train_final,batch_size=256, epochs=10, verbose=1, validation_split=0.2) \n",
        "lstm_score_4_dropout = lstm_4_dropout.evaluate(X_test_final, Y_test_final, verbose=1)"
      ],
      "execution_count": 0,
      "outputs": [
        {
          "output_type": "stream",
          "text": [
            "Epoch 1/10\n",
            "3992/3992 [==============================] - 39s 10ms/step - loss: 0.4932 - accuracy: 0.7582 - val_loss: 0.4310 - val_accuracy: 0.7994\n",
            "Epoch 2/10\n",
            "3992/3992 [==============================] - 38s 9ms/step - loss: 0.4491 - accuracy: 0.7876 - val_loss: 0.4117 - val_accuracy: 0.8118\n",
            "Epoch 3/10\n",
            "3992/3992 [==============================] - 38s 10ms/step - loss: 0.4347 - accuracy: 0.7959 - val_loss: 0.4026 - val_accuracy: 0.8174\n",
            "Epoch 4/10\n",
            "3992/3992 [==============================] - 38s 10ms/step - loss: 0.4267 - accuracy: 0.8011 - val_loss: 0.3958 - val_accuracy: 0.8211\n",
            "Epoch 5/10\n",
            "3992/3992 [==============================] - 38s 9ms/step - loss: 0.4210 - accuracy: 0.8042 - val_loss: 0.3930 - val_accuracy: 0.8224\n",
            "Epoch 6/10\n",
            "3992/3992 [==============================] - 38s 10ms/step - loss: 0.4172 - accuracy: 0.8065 - val_loss: 0.4000 - val_accuracy: 0.8198\n",
            "Epoch 7/10\n",
            "3992/3992 [==============================] - 38s 9ms/step - loss: 0.4133 - accuracy: 0.8091 - val_loss: 0.3904 - val_accuracy: 0.8242\n",
            "Epoch 8/10\n",
            "3992/3992 [==============================] - 38s 10ms/step - loss: 0.4115 - accuracy: 0.8101 - val_loss: 0.3863 - val_accuracy: 0.8259\n",
            "Epoch 9/10\n",
            "3992/3992 [==============================] - 38s 9ms/step - loss: 0.4093 - accuracy: 0.8116 - val_loss: 0.3909 - val_accuracy: 0.8256\n",
            "Epoch 10/10\n",
            "3992/3992 [==============================] - 38s 9ms/step - loss: 0.4072 - accuracy: 0.8126 - val_loss: 0.3893 - val_accuracy: 0.8251\n",
            "9979/9979 [==============================] - 37s 4ms/step - loss: 0.3903 - accuracy: 0.8243\n"
          ],
          "name": "stdout"
        }
      ]
    },
    {
      "cell_type": "code",
      "metadata": {
        "id": "LQbOxH8ZChE4",
        "colab_type": "code",
        "outputId": "29306cb8-aa9f-498d-967f-a9f6b9ca4b94",
        "colab": {
          "base_uri": "https://localhost:8080/",
          "height": 542
        }
      },
      "source": [
        "plot_graphs(lstm_arch_4_dropout, \"accuracy\")\n",
        "plot_graphs(lstm_arch_4_dropout, \"loss\")"
      ],
      "execution_count": 0,
      "outputs": [
        {
          "output_type": "display_data",
          "data": {
            "image/png": "[encoded data removed]",
            "text/plain": [
              "<Figure size 432x288 with 1 Axes>"
            ]
          },
          "metadata": {
            "tags": [],
            "needs_background": "light"
          }
        },
        {
          "output_type": "display_data",
          "data": {
            "image/png": "[encoded data removed]",
            "text/plain": [
              "<Figure size 432x288 with 1 Axes>"
            ]
          },
          "metadata": {
            "tags": [],
            "needs_background": "light"
          }
        }
      ]
    },
    {
      "cell_type": "markdown",
      "metadata": {
        "id": "8x8GP6b51xtI",
        "colab_type": "text"
      },
      "source": [
        "# Hyper-parameter tuning results for LSTM archit 3\n",
        "\n",
        "Test 1 : Dropout of 0.25,0.5,0.75 in Bi-dir LSTM layer, Batch size = 256\n",
        "- 0 = loss: 0.3856 - accuracy: 0.8267\n",
        "- 0.15 = loss: 0.3799 - accuracy: 0.8303\n",
        "- 0.2 = \n",
        "- 0.25 = loss: 0.3766 - accuracy: 0.8313\n",
        "- 0.5 = loss: 0.3987 - accuracy: 0.8210\n",
        "- 0.75 = loss: 0.4304 - accuracy: 0.8041\n",
        "\n",
        "---\n",
        "Test 2 : Activation function - relu or tanh in the first dense layer\n",
        "Batch size = 256, loss= sparse_categorical_crossentropy , dropout = 0.25\n",
        "  - relu = loss: 0.3726 - accuracy: 0.8336\n",
        "  - tanh =  loss: 0.3760 - accuracy: 0.8331 \n",
        "\n",
        "inference : Relu does very slightly better than tanh\n",
        "\n",
        "---\n",
        "Test 3 : Batch size of 32, 128, 256, 1024\n",
        "Last layer Dense(3, activation = 'softmax'), loss= sparse_categorical_crossentropy, dropout = 0.25\n",
        "\n",
        "- 32 = loss: 0.3821 - accuracy: 0.8307\n",
        "- 128 = loss: 0.3738 - accuracy: 0.8336\n",
        "- 256 = loss: 0.3766 - accuracy: 0.8313\n",
        "- 1024 = loss: 0.3741 - accuracy: 0.8339\n",
        "\n",
        "inference : I will choose 128 as the batch sizes are not making a huge impact on the results. But increasing the batch size is increasing the running time. \n",
        "\n",
        "--- \n",
        "Test 4 : \n",
        "- using normal Glove embedding file would reduce the accuracy by a small percentage, when compared to Glove Twitter file (around 1%, but cuts learning time in about half) \n",
        "- glove.twitter.27B.200d.txt improves the accuracy slightly than glove.twitter.27B.100d.txt\n"
      ]
    },
    {
      "cell_type": "markdown",
      "metadata": {
        "id": "qO4_iLKSfNuu",
        "colab_type": "text"
      },
      "source": [
        "# Model 3 : Hybrid model \n",
        "- Architecture 1 : Glove + CNN + LSTM\n",
        "- We wanted to combine both these approaches"
      ]
    },
    {
      "cell_type": "code",
      "metadata": {
        "id": "XOZIsXWebjEq",
        "colab_type": "code",
        "outputId": "520f5e71-0f39-4159-dc98-5a700524f94a",
        "colab": {
          "base_uri": "https://localhost:8080/",
          "height": 391
        }
      },
      "source": [
        "hybrid_1 = tf.keras.Sequential()\n",
        "hybrid_1.add(tf.keras.layers.Embedding(input_dim = vocab_size, output_dim=100, input_length=max_length, weights=[embeddings_matrix], trainable=False))\n",
        "hybrid_1.add(tf.keras.layers.Conv1D(bSize, 5, activation='relu'))\n",
        "hybrid_1.add(tf.keras.layers.Dropout(dOut))\n",
        "hybrid_1.add(tf.keras.layers.MaxPooling1D())\n",
        "hybrid_1.add(tf.keras.layers.Bidirectional(tf.keras.layers.LSTM(64, dropout=0.25)))\n",
        "hybrid_1.add(tf.keras.layers.Dense(64, activation='relu'))\n",
        "hybrid_1.add(tf.keras.layers.Dense(3, activation='softmax'))\n",
        "hybrid_1.compile(loss='sparse_categorical_crossentropy',optimizer='adam',metrics=['accuracy'])\n",
        "hybrid_1.summary()"
      ],
      "execution_count": 0,
      "outputs": [
        {
          "output_type": "stream",
          "text": [
            "Model: \"sequential_25\"\n",
            "_________________________________________________________________\n",
            "Layer (type)                 Output Shape              Param #   \n",
            "=================================================================\n",
            "embedding_24 (Embedding)     (None, 30, 100)           27261200  \n",
            "_________________________________________________________________\n",
            "conv1d_18 (Conv1D)           (None, 26, 128)           64128     \n",
            "_________________________________________________________________\n",
            "dropout_6 (Dropout)          (None, 26, 128)           0         \n",
            "_________________________________________________________________\n",
            "max_pooling1d_1 (MaxPooling1 (None, 13, 128)           0         \n",
            "_________________________________________________________________\n",
            "bidirectional_23 (Bidirectio (None, 128)               98816     \n",
            "_________________________________________________________________\n",
            "dense_20 (Dense)             (None, 64)                8256      \n",
            "_________________________________________________________________\n",
            "dense_21 (Dense)             (None, 3)                 195       \n",
            "=================================================================\n",
            "Total params: 27,432,595\n",
            "Trainable params: 171,395\n",
            "Non-trainable params: 27,261,200\n",
            "_________________________________________________________________\n"
          ],
          "name": "stdout"
        }
      ]
    },
    {
      "cell_type": "code",
      "metadata": {
        "id": "Tf22hSOHDJ7r",
        "colab_type": "code",
        "outputId": "50dd9230-a819-4524-84e9-27f619f68ea6",
        "colab": {
          "base_uri": "https://localhost:8080/",
          "height": 1000
        }
      },
      "source": [
        "#train model \n",
        "hybrid_arch_1 = hybrid_1.fit(X_train_final, Y_train_final,batch_size=128, epochs=20, verbose=1, validation_split=0.2) \n",
        "hybrid_score_1 = hybrid_1.evaluate(X_test_final, Y_test_final, verbose=1)"
      ],
      "execution_count": 0,
      "outputs": [
        {
          "output_type": "stream",
          "text": [
            "Epoch 1/20\n",
            "7983/7983 [==============================] - 61s 8ms/step - loss: 0.4480 - accuracy: 0.7882 - val_loss: 0.4143 - val_accuracy: 0.8083\n",
            "Epoch 2/20\n",
            "7983/7983 [==============================] - 59s 7ms/step - loss: 0.4171 - accuracy: 0.8075 - val_loss: 0.4032 - val_accuracy: 0.8159\n",
            "Epoch 3/20\n",
            "7983/7983 [==============================] - 60s 7ms/step - loss: 0.4075 - accuracy: 0.8130 - val_loss: 0.3965 - val_accuracy: 0.8200\n",
            "Epoch 4/20\n",
            "7983/7983 [==============================] - 59s 7ms/step - loss: 0.4015 - accuracy: 0.8162 - val_loss: 0.3930 - val_accuracy: 0.8215\n",
            "Epoch 5/20\n",
            "7983/7983 [==============================] - 59s 7ms/step - loss: 0.3976 - accuracy: 0.8185 - val_loss: 0.3909 - val_accuracy: 0.8226\n",
            "Epoch 6/20\n",
            "7983/7983 [==============================] - 58s 7ms/step - loss: 0.3944 - accuracy: 0.8204 - val_loss: 0.3903 - val_accuracy: 0.8231\n",
            "Epoch 7/20\n",
            "7983/7983 [==============================] - 58s 7ms/step - loss: 0.3918 - accuracy: 0.8216 - val_loss: 0.3883 - val_accuracy: 0.8247\n",
            "Epoch 8/20\n",
            "7983/7983 [==============================] - 59s 7ms/step - loss: 0.3899 - accuracy: 0.8230 - val_loss: 0.3892 - val_accuracy: 0.8240\n",
            "Epoch 9/20\n",
            "7983/7983 [==============================] - 59s 7ms/step - loss: 0.3882 - accuracy: 0.8239 - val_loss: 0.3884 - val_accuracy: 0.8246\n",
            "Epoch 10/20\n",
            "7983/7983 [==============================] - 58s 7ms/step - loss: 0.3865 - accuracy: 0.8248 - val_loss: 0.3883 - val_accuracy: 0.8253\n",
            "Epoch 11/20\n",
            "7983/7983 [==============================] - 58s 7ms/step - loss: 0.3855 - accuracy: 0.8251 - val_loss: 0.3861 - val_accuracy: 0.8258\n",
            "Epoch 12/20\n",
            "7983/7983 [==============================] - 58s 7ms/step - loss: 0.3843 - accuracy: 0.8260 - val_loss: 0.3869 - val_accuracy: 0.8258\n",
            "Epoch 13/20\n",
            "7983/7983 [==============================] - 58s 7ms/step - loss: 0.3834 - accuracy: 0.8263 - val_loss: 0.3854 - val_accuracy: 0.8262\n",
            "Epoch 14/20\n",
            "7983/7983 [==============================] - 58s 7ms/step - loss: 0.3824 - accuracy: 0.8269 - val_loss: 0.3853 - val_accuracy: 0.8264\n",
            "Epoch 15/20\n",
            "7983/7983 [==============================] - 57s 7ms/step - loss: 0.3814 - accuracy: 0.8275 - val_loss: 0.3863 - val_accuracy: 0.8262\n",
            "Epoch 16/20\n",
            "7983/7983 [==============================] - 57s 7ms/step - loss: 0.3813 - accuracy: 0.8274 - val_loss: 0.3850 - val_accuracy: 0.8268\n",
            "Epoch 17/20\n",
            "7983/7983 [==============================] - 57s 7ms/step - loss: 0.3803 - accuracy: 0.8282 - val_loss: 0.3845 - val_accuracy: 0.8274\n",
            "Epoch 18/20\n",
            "7983/7983 [==============================] - 57s 7ms/step - loss: 0.3795 - accuracy: 0.8287 - val_loss: 0.3838 - val_accuracy: 0.8271\n",
            "Epoch 19/20\n",
            "7983/7983 [==============================] - 58s 7ms/step - loss: 0.3792 - accuracy: 0.8290 - val_loss: 0.3852 - val_accuracy: 0.8272\n",
            "Epoch 20/20\n",
            "7983/7983 [==============================] - 58s 7ms/step - loss: 0.3785 - accuracy: 0.8293 - val_loss: 0.3846 - val_accuracy: 0.8275\n",
            "9979/9979 [==============================] - 34s 3ms/step - loss: 0.3875 - accuracy: 0.8254\n"
          ],
          "name": "stdout"
        }
      ]
    },
    {
      "cell_type": "code",
      "metadata": {
        "id": "Jx9cF4-2vaZa",
        "colab_type": "code",
        "outputId": "c83f8d86-b97b-448c-ef63-64260a90f07e",
        "colab": {
          "base_uri": "https://localhost:8080/",
          "height": 541
        }
      },
      "source": [
        "plot_graphs(hybrid_arch_1, \"accuracy\")\n",
        "plot_graphs(hybrid_arch_1, \"loss\");"
      ],
      "execution_count": 0,
      "outputs": [
        {
          "output_type": "display_data",
          "data": {
            "image/png": "[encoded data removed]",
            "text/plain": [
              "<Figure size 432x288 with 1 Axes>"
            ]
          },
          "metadata": {
            "tags": [],
            "needs_background": "light"
          }
        },
        {
          "output_type": "display_data",
          "data": {
            "image/png": "[encoded data removed]",
            "text/plain": [
              "<Figure size 432x288 with 1 Axes>"
            ]
          },
          "metadata": {
            "tags": [],
            "needs_background": "light"
          }
        }
      ]
    },
    {
      "cell_type": "markdown",
      "metadata": {
        "id": "GT5p57xfFJPf",
        "colab_type": "text"
      },
      "source": [
        "# Hybrid Arch 2 : glove + LSTM + CNN\n"
      ]
    },
    {
      "cell_type": "code",
      "metadata": {
        "id": "BZsEDQf4FIb8",
        "colab_type": "code",
        "outputId": "5a989c53-52dc-4135-a369-1e7d14d45c66",
        "colab": {
          "base_uri": "https://localhost:8080/",
          "height": 391
        }
      },
      "source": [
        "hybrid_2 = tf.keras.Sequential()\n",
        "hybrid_2.add(tf.keras.layers.Embedding(input_dim = vocab_size, output_dim=100, input_length=max_length, weights=[embeddings_matrix], trainable=False))\n",
        "hybrid_2.add(tf.keras.layers.SpatialDropout1D(0.25))\n",
        "hybrid_2.add(tf.keras.layers.Bidirectional(tf.keras.layers.LSTM(64, dropout=0.25,return_sequences=True)))\n",
        "hybrid_2.add(tf.keras.layers.Conv1D(64,4,activation=cActivation ))\n",
        "hybrid_2.add(tf.keras.layers.GlobalMaxPool1D())\n",
        "hybrid_2.add(tf.keras.layers.Dense(64, activation='relu'))\n",
        "hybrid_2.add(tf.keras.layers.Dense(3, activation='softmax'))\n",
        "\n",
        "hybrid_2.compile(loss='sparse_categorical_crossentropy',optimizer='adam',metrics=['accuracy'])\n",
        "hybrid_2.summary()"
      ],
      "execution_count": 0,
      "outputs": [
        {
          "output_type": "stream",
          "text": [
            "Model: \"sequential_31\"\n",
            "_________________________________________________________________\n",
            "Layer (type)                 Output Shape              Param #   \n",
            "=================================================================\n",
            "embedding_30 (Embedding)     (None, 30, 100)           27261200  \n",
            "_________________________________________________________________\n",
            "spatial_dropout1d_2 (Spatial (None, 30, 100)           0         \n",
            "_________________________________________________________________\n",
            "bidirectional_28 (Bidirectio (None, 30, 128)           84480     \n",
            "_________________________________________________________________\n",
            "conv1d_23 (Conv1D)           (None, 27, 64)            32832     \n",
            "_________________________________________________________________\n",
            "global_max_pooling1d_7 (Glob (None, 64)                0         \n",
            "_________________________________________________________________\n",
            "dense_29 (Dense)             (None, 64)                4160      \n",
            "_________________________________________________________________\n",
            "dense_30 (Dense)             (None, 3)                 195       \n",
            "=================================================================\n",
            "Total params: 27,382,867\n",
            "Trainable params: 121,667\n",
            "Non-trainable params: 27,261,200\n",
            "_________________________________________________________________\n"
          ],
          "name": "stdout"
        }
      ]
    },
    {
      "cell_type": "code",
      "metadata": {
        "id": "VLyzQntdwUk_",
        "colab_type": "code",
        "outputId": "b7d0190b-e5a1-4c14-fbe6-060f0f5d581b",
        "colab": {
          "base_uri": "https://localhost:8080/",
          "height": 734
        }
      },
      "source": [
        "#train model \n",
        "hybrid_arch_2 = hybrid_2.fit(X_train_final, Y_train_final,batch_size=128, epochs=20, verbose=1, validation_split=0.2) \n",
        "hybrid_score_2 = hybrid_2.evaluate(X_test_final, Y_test_final, verbose=1)"
      ],
      "execution_count": 0,
      "outputs": [
        {
          "output_type": "stream",
          "text": [
            "Epoch 1/20\n",
            "7983/7983 [==============================] - 66s 8ms/step - loss: 0.4670 - accuracy: 0.7755 - val_loss: 0.4190 - val_accuracy: 0.8081\n",
            "Epoch 2/20\n",
            "7983/7983 [==============================] - 66s 8ms/step - loss: 0.4270 - accuracy: 0.8015 - val_loss: 0.3958 - val_accuracy: 0.8212\n",
            "Epoch 3/20\n",
            "7983/7983 [==============================] - 65s 8ms/step - loss: 0.4155 - accuracy: 0.8084 - val_loss: 0.3899 - val_accuracy: 0.8246\n",
            "Epoch 4/20\n",
            "7983/7983 [==============================] - 65s 8ms/step - loss: 0.4096 - accuracy: 0.8117 - val_loss: 0.3850 - val_accuracy: 0.8264\n",
            "Epoch 5/20\n",
            "7983/7983 [==============================] - 64s 8ms/step - loss: 0.4050 - accuracy: 0.8144 - val_loss: 0.3817 - val_accuracy: 0.8286\n",
            "Epoch 6/20\n",
            "7983/7983 [==============================] - 64s 8ms/step - loss: 0.4021 - accuracy: 0.8162 - val_loss: 0.3800 - val_accuracy: 0.8295\n",
            "Epoch 7/20\n",
            "7983/7983 [==============================] - 65s 8ms/step - loss: 0.4001 - accuracy: 0.8172 - val_loss: 0.3840 - val_accuracy: 0.8279\n",
            "Epoch 8/20\n",
            "7983/7983 [==============================] - 64s 8ms/step - loss: 0.3975 - accuracy: 0.8185 - val_loss: 0.3863 - val_accuracy: 0.8306\n",
            "Epoch 9/20\n",
            "7983/7983 [==============================] - 65s 8ms/step - loss: 0.3959 - accuracy: 0.8196 - val_loss: 0.3770 - val_accuracy: 0.8314\n",
            "Epoch 10/20\n",
            "7983/7983 [==============================] - 65s 8ms/step - loss: 0.3945 - accuracy: 0.8206 - val_loss: 0.3811 - val_accuracy: 0.8312\n",
            "Epoch 11/20\n",
            "7983/7983 [==============================] - 65s 8ms/step - loss: 0.3938 - accuracy: 0.8205 - val_loss: 0.3814 - val_accuracy: 0.8318\n",
            "Epoch 12/20\n",
            "7983/7983 [==============================] - 65s 8ms/step - loss: 0.3927 - accuracy: 0.8214 - val_loss: 0.3764 - val_accuracy: 0.8328\n",
            "Epoch 13/20\n",
            "7983/7983 [==============================] - 64s 8ms/step - loss: 0.3916 - accuracy: 0.8220 - val_loss: 0.3811 - val_accuracy: 0.8305\n",
            "Epoch 14/20\n",
            "7983/7983 [==============================] - 64s 8ms/step - loss: 0.3906 - accuracy: 0.8224 - val_loss: 0.3752 - val_accuracy: 0.8326\n",
            "Epoch 15/20\n",
            "7983/7983 [==============================] - 64s 8ms/step - loss: 0.3897 - accuracy: 0.8228 - val_loss: 0.3782 - val_accuracy: 0.8324\n",
            "Epoch 16/20\n",
            "7983/7983 [==============================] - 64s 8ms/step - loss: 0.3889 - accuracy: 0.8236 - val_loss: 0.3750 - val_accuracy: 0.8329\n",
            "Epoch 17/20\n",
            "7983/7983 [==============================] - 64s 8ms/step - loss: 0.3885 - accuracy: 0.8237 - val_loss: 0.3741 - val_accuracy: 0.8337\n",
            "Epoch 18/20\n",
            "7983/7983 [==============================] - 64s 8ms/step - loss: 0.3879 - accuracy: 0.8243 - val_loss: 0.3793 - val_accuracy: 0.8311\n",
            "Epoch 19/20\n",
            "7983/7983 [==============================] - 64s 8ms/step - loss: 0.3873 - accuracy: 0.8243 - val_loss: 0.3791 - val_accuracy: 0.8323\n",
            "Epoch 20/20\n",
            "7983/7983 [==============================] - 63s 8ms/step - loss: 0.3870 - accuracy: 0.8246 - val_loss: 0.3780 - val_accuracy: 0.8323\n",
            "9979/9979 [==============================] - 36s 4ms/step - loss: 0.3805 - accuracy: 0.8310\n"
          ],
          "name": "stdout"
        }
      ]
    },
    {
      "cell_type": "code",
      "metadata": {
        "id": "hyYst6PcIsQR",
        "colab_type": "code",
        "outputId": "525ae1a0-153a-4c87-b796-c36c649ce20a",
        "colab": {
          "base_uri": "https://localhost:8080/",
          "height": 541
        }
      },
      "source": [
        "plot_graphs(hybrid_arch_2, \"accuracy\")\n",
        "plot_graphs(hybrid_arch_2, \"loss\");"
      ],
      "execution_count": 0,
      "outputs": [
        {
          "output_type": "display_data",
          "data": {
            "image/png": "[encoded data removed]",
            "text/plain": [
              "<Figure size 432x288 with 1 Axes>"
            ]
          },
          "metadata": {
            "tags": [],
            "needs_background": "light"
          }
        },
        {
          "output_type": "display_data",
          "data": {
            "image/png": "[encoded data removed]",
            "text/plain": [
              "<Figure size 432x288 with 1 Axes>"
            ]
          },
          "metadata": {
            "tags": [],
            "needs_background": "light"
          }
        }
      ]
    },
    {
      "cell_type": "code",
      "metadata": {
        "id": "1Xo4BLVVQ019",
        "colab_type": "code",
        "colab": {}
      },
      "source": [
        "# To save the model in HDF5 format, we use '.h5' extension \n",
        "# saves weights\n",
        "hybrid_2.save_weights('./checkpoints/hybrid_2')\n",
        "hybrid_2.save('hybrid_arch_2.h5') "
      ],
      "execution_count": 0,
      "outputs": []
    },
    {
      "cell_type": "code",
      "metadata": {
        "id": "lbGFq9Y8ZUCW",
        "colab_type": "code",
        "colab": {}
      },
      "source": [
        ""
      ],
      "execution_count": 0,
      "outputs": []
    },
    {
      "cell_type": "markdown",
      "metadata": {
        "id": "U82sCKtbhPB-",
        "colab_type": "text"
      },
      "source": [
        ""
      ]
    }
  ]
}
